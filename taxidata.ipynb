{
 "metadata": {
  "name": "",
  "signature": "sha256:fc6d68b1b565adf15972129ab1206f22d7da10072d1f7c1f93009f0b71cbe62e"
 },
 "nbformat": 3,
 "nbformat_minor": 0,
 "worksheets": [
  {
   "cells": [
    {
     "cell_type": "code",
     "collapsed": false,
     "input": [
      "import itertools\n",
      "import numpy as np\n",
      "import pandas as pd\n",
      "import seaborn as sns\n",
      "import matplotlib.pyplot as plt"
     ],
     "language": "python",
     "metadata": {},
     "outputs": [],
     "prompt_number": 4
    },
    {
     "cell_type": "code",
     "collapsed": false,
     "input": [
      "df = pd.read_csv('/Users/charliehack/Downloads/results-20141031-122040.csv')"
     ],
     "language": "python",
     "metadata": {},
     "outputs": [],
     "prompt_number": 2
    },
    {
     "cell_type": "code",
     "collapsed": false,
     "input": [
      "tips = np.array(list(itertools.chain.from_iterable([[pct]*freq for pct, freq in zip(df['tip_pct'], df['trips'])])))"
     ],
     "language": "python",
     "metadata": {},
     "outputs": [],
     "prompt_number": 5
    },
    {
     "cell_type": "code",
     "collapsed": false,
     "input": [
      "plt.hist(tips, 100, range=(0,100))"
     ],
     "language": "python",
     "metadata": {},
     "outputs": [
      {
       "metadata": {},
       "output_type": "pyout",
       "prompt_number": 12,
       "text": [
        "(array([  3.22781600e+06,   7.86060000e+04,   5.79450000e+04,\n",
        "          7.53510000e+04,   1.99571000e+05,   3.94763000e+05,\n",
        "          7.32748000e+05,   1.00134400e+06,   1.39565700e+06,\n",
        "          1.51606200e+06,   2.29649200e+06,   2.81356600e+06,\n",
        "          2.02042600e+06,   3.64155500e+06,   2.63866200e+06,\n",
        "          2.65969000e+06,   1.18253000e+06,   2.60452900e+06,\n",
        "          2.10527900e+06,   1.14002900e+06,   1.46901830e+07,\n",
        "          1.66066010e+07,   9.95766500e+06,   4.68885800e+06,\n",
        "          2.72164300e+06,   4.87690200e+06,   3.45394000e+06,\n",
        "          2.58727200e+06,   1.35634400e+06,   1.21744300e+06,\n",
        "          1.72957200e+06,   1.18665800e+06,   1.01121500e+06,\n",
        "          9.69247000e+05,   3.41499000e+05,   3.07730000e+05,\n",
        "          3.00208000e+05,   8.97950000e+04,   1.71289000e+05,\n",
        "          4.14940000e+04,   1.75787000e+05,   1.86670000e+04,\n",
        "          3.31440000e+04,   5.79250000e+04,   9.79380000e+04,\n",
        "          2.15830000e+04,   3.64280000e+04,   1.28530000e+04,\n",
        "          1.33030000e+04,   3.74400000e+03,   1.08297000e+05,\n",
        "          4.37000000e+03,   4.06500000e+03,   1.55840000e+04,\n",
        "          4.26100000e+03,   2.71520000e+04,   1.50290000e+04,\n",
        "          3.10790000e+04,   5.28100000e+03,   8.19200000e+03,\n",
        "          2.20900000e+04,   2.32200000e+03,   6.01400000e+03,\n",
        "          1.18660000e+04,   3.45300000e+03,   2.18000000e+03,\n",
        "          5.88000000e+02,   3.35590000e+04,   1.05600000e+03,\n",
        "          2.03600000e+03,   2.58200000e+03,   8.75600000e+03,\n",
        "          6.43000000e+02,   6.19200000e+03,   1.76100000e+03,\n",
        "          1.14580000e+04,   9.27000000e+02,   6.75500000e+03,\n",
        "          1.26300000e+03,   7.17000000e+02,   8.98200000e+03,\n",
        "          7.40000000e+02,   9.68000000e+02,   6.45900000e+03,\n",
        "          6.21000000e+02,   7.22000000e+02,   6.44500000e+03,\n",
        "          1.37100000e+03,   1.36200000e+03,   3.14300000e+03,\n",
        "          1.07700000e+03,   5.25700000e+03,   1.06000000e+03,\n",
        "          8.46000000e+02,   6.61000000e+02,   1.49300000e+03,\n",
        "          7.28000000e+02,   3.95000000e+02,   4.19000000e+02,\n",
        "          1.30640000e+04]),\n",
        " array([   0.,    1.,    2.,    3.,    4.,    5.,    6.,    7.,    8.,\n",
        "           9.,   10.,   11.,   12.,   13.,   14.,   15.,   16.,   17.,\n",
        "          18.,   19.,   20.,   21.,   22.,   23.,   24.,   25.,   26.,\n",
        "          27.,   28.,   29.,   30.,   31.,   32.,   33.,   34.,   35.,\n",
        "          36.,   37.,   38.,   39.,   40.,   41.,   42.,   43.,   44.,\n",
        "          45.,   46.,   47.,   48.,   49.,   50.,   51.,   52.,   53.,\n",
        "          54.,   55.,   56.,   57.,   58.,   59.,   60.,   61.,   62.,\n",
        "          63.,   64.,   65.,   66.,   67.,   68.,   69.,   70.,   71.,\n",
        "          72.,   73.,   74.,   75.,   76.,   77.,   78.,   79.,   80.,\n",
        "          81.,   82.,   83.,   84.,   85.,   86.,   87.,   88.,   89.,\n",
        "          90.,   91.,   92.,   93.,   94.,   95.,   96.,   97.,   98.,\n",
        "          99.,  100.]),\n",
        " <a list of 100 Patch objects>)"
       ]
      },
      {
       "metadata": {},
       "output_type": "display_data",
       "png": "[encoded data removed]",
       "text": [
        "<matplotlib.figure.Figure at 0x112e19b10>"
       ]
      }
     ],
     "prompt_number": 12
    },
    {
     "cell_type": "code",
     "collapsed": false,
     "input": [
      "dftips = pd.read_csv('/Users/charliehack/Downloads/results-20141102-023832 (1).csv')"
     ],
     "language": "python",
     "metadata": {},
     "outputs": [],
     "prompt_number": 14
    },
    {
     "cell_type": "code",
     "collapsed": false,
     "input": [
      "tips = np.array(list(itertools.chain.from_iterable([[pct]*freq for pct, freq in zip(dftips['tip_pct'], dftips['trips'])])))"
     ],
     "language": "python",
     "metadata": {},
     "outputs": [],
     "prompt_number": 16
    },
    {
     "cell_type": "code",
     "collapsed": false,
     "input": [
      "plt.hist(tips, 100, range=(0,100))"
     ],
     "language": "python",
     "metadata": {},
     "outputs": [
      {
       "metadata": {},
       "output_type": "pyout",
       "prompt_number": 17,
       "text": [
        "(array([  3.22781600e+06,   7.86060000e+04,   5.79450000e+04,\n",
        "          7.53510000e+04,   1.99571000e+05,   3.94763000e+05,\n",
        "          7.32748000e+05,   1.00134400e+06,   1.39565700e+06,\n",
        "          1.51606200e+06,   2.29649200e+06,   2.81356600e+06,\n",
        "          2.02042600e+06,   3.64155500e+06,   2.63866200e+06,\n",
        "          2.65969000e+06,   1.18253000e+06,   2.60452900e+06,\n",
        "          2.10527900e+06,   1.14002900e+06,   1.46901830e+07,\n",
        "          1.66066010e+07,   9.95766500e+06,   4.68885800e+06,\n",
        "          2.72164300e+06,   4.87690200e+06,   3.45394000e+06,\n",
        "          2.58727200e+06,   1.35634400e+06,   1.21744300e+06,\n",
        "          1.72957200e+06,   1.18665800e+06,   1.01121500e+06,\n",
        "          9.69247000e+05,   3.41499000e+05,   3.07730000e+05,\n",
        "          3.00208000e+05,   8.97950000e+04,   1.71289000e+05,\n",
        "          4.14940000e+04,   1.75787000e+05,   1.86670000e+04,\n",
        "          3.31440000e+04,   5.79250000e+04,   9.79380000e+04,\n",
        "          2.15830000e+04,   3.64280000e+04,   1.28530000e+04,\n",
        "          1.33030000e+04,   3.74400000e+03,   1.08297000e+05,\n",
        "          4.37000000e+03,   4.06500000e+03,   1.55840000e+04,\n",
        "          4.26100000e+03,   2.71520000e+04,   1.50290000e+04,\n",
        "          3.10790000e+04,   5.28100000e+03,   8.19200000e+03,\n",
        "          2.20900000e+04,   2.32200000e+03,   6.01400000e+03,\n",
        "          1.18660000e+04,   3.45300000e+03,   2.18000000e+03,\n",
        "          5.88000000e+02,   3.35590000e+04,   1.05600000e+03,\n",
        "          2.03600000e+03,   2.58200000e+03,   8.75600000e+03,\n",
        "          6.43000000e+02,   6.19200000e+03,   1.76100000e+03,\n",
        "          1.14580000e+04,   9.27000000e+02,   6.75500000e+03,\n",
        "          1.26300000e+03,   7.17000000e+02,   8.98200000e+03,\n",
        "          7.40000000e+02,   9.68000000e+02,   6.45900000e+03,\n",
        "          6.21000000e+02,   7.22000000e+02,   6.44500000e+03,\n",
        "          1.37100000e+03,   1.36200000e+03,   3.14300000e+03,\n",
        "          1.07700000e+03,   5.25700000e+03,   1.06000000e+03,\n",
        "          8.46000000e+02,   6.61000000e+02,   1.49300000e+03,\n",
        "          7.28000000e+02,   3.95000000e+02,   4.19000000e+02,\n",
        "          1.30640000e+04]),\n",
        " array([   0.,    1.,    2.,    3.,    4.,    5.,    6.,    7.,    8.,\n",
        "           9.,   10.,   11.,   12.,   13.,   14.,   15.,   16.,   17.,\n",
        "          18.,   19.,   20.,   21.,   22.,   23.,   24.,   25.,   26.,\n",
        "          27.,   28.,   29.,   30.,   31.,   32.,   33.,   34.,   35.,\n",
        "          36.,   37.,   38.,   39.,   40.,   41.,   42.,   43.,   44.,\n",
        "          45.,   46.,   47.,   48.,   49.,   50.,   51.,   52.,   53.,\n",
        "          54.,   55.,   56.,   57.,   58.,   59.,   60.,   61.,   62.,\n",
        "          63.,   64.,   65.,   66.,   67.,   68.,   69.,   70.,   71.,\n",
        "          72.,   73.,   74.,   75.,   76.,   77.,   78.,   79.,   80.,\n",
        "          81.,   82.,   83.,   84.,   85.,   86.,   87.,   88.,   89.,\n",
        "          90.,   91.,   92.,   93.,   94.,   95.,   96.,   97.,   98.,\n",
        "          99.,  100.]),\n",
        " <a list of 100 Patch objects>)"
       ]
      },
      {
       "metadata": {},
       "output_type": "display_data",
       "png": "[encoded data removed]",
       "text": [
        "<matplotlib.figure.Figure at 0x1133e9410>"
       ]
      }
     ],
     "prompt_number": 17
    },
    {
     "cell_type": "code",
     "collapsed": false,
     "input": [],
     "language": "python",
     "metadata": {},
     "outputs": []
    }
   ],
   "metadata": {}
  }
 ]
}