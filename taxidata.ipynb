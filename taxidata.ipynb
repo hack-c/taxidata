{
 "metadata": {
  "name": "",
  "signature": "sha256:9ca02321b8f0d626e6075bff91f76f7d8e28c693ef18ebdba3add4a2f9d374b2"
 },
 "nbformat": 3,
 "nbformat_minor": 0,
 "worksheets": [
  {
   "cells": [
    {
     "cell_type": "code",
     "collapsed": false,
     "input": [
      "import itertools\n",
      "import numpy as np\n",
      "import pandas as pd\n",
      "import seaborn as sns\n",
      "import matplotlib.pyplot as plt"
     ],
     "language": "python",
     "metadata": {},
     "outputs": [],
     "prompt_number": 2
    },
    {
     "cell_type": "code",
     "collapsed": false,
     "input": [
      "df = pd.read_csv('/Users/charliehack/Downloads/results-20141031-122040.csv')"
     ],
     "language": "python",
     "metadata": {},
     "outputs": [],
     "prompt_number": 2
    },
    {
     "cell_type": "code",
     "collapsed": false,
     "input": [
      "tips = np.array(list(itertools.chain.from_iterable([[pct]*freq for pct, freq in zip(df['tip_pct'], df['trips'])])))"
     ],
     "language": "python",
     "metadata": {},
     "outputs": [],
     "prompt_number": 5
    },
    {
     "cell_type": "code",
     "collapsed": false,
     "input": [
      "plt.hist(tips, 100, range=(0,100))"
     ],
     "language": "python",
     "metadata": {},
     "outputs": [
      {
       "metadata": {},
       "output_type": "pyout",
       "prompt_number": 12,
       "text": [
        "(array([  3.22781600e+06,   7.86060000e+04,   5.79450000e+04,\n",
        "          7.53510000e+04,   1.99571000e+05,   3.94763000e+05,\n",
        "          7.32748000e+05,   1.00134400e+06,   1.39565700e+06,\n",
        "          1.51606200e+06,   2.29649200e+06,   2.81356600e+06,\n",
        "          2.02042600e+06,   3.64155500e+06,   2.63866200e+06,\n",
        "          2.65969000e+06,   1.18253000e+06,   2.60452900e+06,\n",
        "          2.10527900e+06,   1.14002900e+06,   1.46901830e+07,\n",
        "          1.66066010e+07,   9.95766500e+06,   4.68885800e+06,\n",
        "          2.72164300e+06,   4.87690200e+06,   3.45394000e+06,\n",
        "          2.58727200e+06,   1.35634400e+06,   1.21744300e+06,\n",
        "          1.72957200e+06,   1.18665800e+06,   1.01121500e+06,\n",
        "          9.69247000e+05,   3.41499000e+05,   3.07730000e+05,\n",
        "          3.00208000e+05,   8.97950000e+04,   1.71289000e+05,\n",
        "          4.14940000e+04,   1.75787000e+05,   1.86670000e+04,\n",
        "          3.31440000e+04,   5.79250000e+04,   9.79380000e+04,\n",
        "          2.15830000e+04,   3.64280000e+04,   1.28530000e+04,\n",
        "          1.33030000e+04,   3.74400000e+03,   1.08297000e+05,\n",
        "          4.37000000e+03,   4.06500000e+03,   1.55840000e+04,\n",
        "          4.26100000e+03,   2.71520000e+04,   1.50290000e+04,\n",
        "          3.10790000e+04,   5.28100000e+03,   8.19200000e+03,\n",
        "          2.20900000e+04,   2.32200000e+03,   6.01400000e+03,\n",
        "          1.18660000e+04,   3.45300000e+03,   2.18000000e+03,\n",
        "          5.88000000e+02,   3.35590000e+04,   1.05600000e+03,\n",
        "          2.03600000e+03,   2.58200000e+03,   8.75600000e+03,\n",
        "          6.43000000e+02,   6.19200000e+03,   1.76100000e+03,\n",
        "          1.14580000e+04,   9.27000000e+02,   6.75500000e+03,\n",
        "          1.26300000e+03,   7.17000000e+02,   8.98200000e+03,\n",
        "          7.40000000e+02,   9.68000000e+02,   6.45900000e+03,\n",
        "          6.21000000e+02,   7.22000000e+02,   6.44500000e+03,\n",
        "          1.37100000e+03,   1.36200000e+03,   3.14300000e+03,\n",
        "          1.07700000e+03,   5.25700000e+03,   1.06000000e+03,\n",
        "          8.46000000e+02,   6.61000000e+02,   1.49300000e+03,\n",
        "          7.28000000e+02,   3.95000000e+02,   4.19000000e+02,\n",
        "          1.30640000e+04]),\n",
        " array([   0.,    1.,    2.,    3.,    4.,    5.,    6.,    7.,    8.,\n",
        "           9.,   10.,   11.,   12.,   13.,   14.,   15.,   16.,   17.,\n",
        "          18.,   19.,   20.,   21.,   22.,   23.,   24.,   25.,   26.,\n",
        "          27.,   28.,   29.,   30.,   31.,   32.,   33.,   34.,   35.,\n",
        "          36.,   37.,   38.,   39.,   40.,   41.,   42.,   43.,   44.,\n",
        "          45.,   46.,   47.,   48.,   49.,   50.,   51.,   52.,   53.,\n",
        "          54.,   55.,   56.,   57.,   58.,   59.,   60.,   61.,   62.,\n",
        "          63.,   64.,   65.,   66.,   67.,   68.,   69.,   70.,   71.,\n",
        "          72.,   73.,   74.,   75.,   76.,   77.,   78.,   79.,   80.,\n",
        "          81.,   82.,   83.,   84.,   85.,   86.,   87.,   88.,   89.,\n",
        "          90.,   91.,   92.,   93.,   94.,   95.,   96.,   97.,   98.,\n",
        "          99.,  100.]),\n",
        " <a list of 100 Patch objects>)"
       ]
      },
      {
       "metadata": {},
       "output_type": "display_data",
       "png": "[encoded data removed]",
       "text": [
        "<matplotlib.figure.Figure at 0x112e19b10>"
       ]
      }
     ],
     "prompt_number": 12
    },
    {
     "cell_type": "code",
     "collapsed": false,
     "input": [
      "dftips = pd.read_csv('/Users/charliehack/Downloads/results-20141102-023832 (1).csv')"
     ],
     "language": "python",
     "metadata": {},
     "outputs": [],
     "prompt_number": 6
    },
    {
     "cell_type": "code",
     "collapsed": false,
     "input": [
      "tips = np.array(list(itertools.chain.from_iterable([[pct]*freq for pct, freq in zip(dftips['tip_pct'], dftips['trips'])])))"
     ],
     "language": "python",
     "metadata": {},
     "outputs": []
    },
    {
     "cell_type": "code",
     "collapsed": false,
     "input": [
      "tips = np.array(list(itertools.chain.from_iterable([[pct]*freq for pct, freq in zip(dftips['tip_pct'], dftips['trips'])])))"
     ],
     "language": "python",
     "metadata": {},
     "outputs": [],
     "prompt_number": 7
    },
    {
     "cell_type": "code",
     "collapsed": false,
     "input": [
      "plt.hist(tips, 50, range=(0,50))\n",
      "plt.xlabel(\"Tip Percent\")\n",
      "plt.ylabel(\"Fares (tens of millions)\")\n"
     ],
     "language": "python",
     "metadata": {},
     "outputs": [
      {
       "metadata": {},
       "output_type": "pyout",
       "prompt_number": 11,
       "text": [
        "<matplotlib.text.Text at 0x107a44110>"
       ]
      },
      {
       "metadata": {},
       "output_type": "display_data",
       "png": "[encoded data removed]",
       "text": [
        "<matplotlib.figure.Figure at 0x1137032d0>"
       ]
      }
     ],
     "prompt_number": 11
    },
    {
     "cell_type": "code",
     "collapsed": false,
     "input": [],
     "language": "python",
     "metadata": {},
     "outputs": [],
     "prompt_number": 72
    },
    {
     "cell_type": "code",
     "collapsed": false,
     "input": [
      "cabbies = pd.read_csv('/Users/charliehack/Downloads/results-20141108-170304.csv')"
     ],
     "language": "python",
     "metadata": {},
     "outputs": [],
     "prompt_number": 3
    },
    {
     "cell_type": "code",
     "collapsed": false,
     "input": [
      "cabbies.columns"
     ],
     "language": "python",
     "metadata": {},
     "outputs": [
      {
       "metadata": {},
       "output_type": "pyout",
       "prompt_number": 4,
       "text": [
        "Index([u'earnings', u'trips', u'avg_fare', u'medallion'], dtype='object')"
       ]
      }
     ],
     "prompt_number": 4
    },
    {
     "cell_type": "code",
     "collapsed": false,
     "input": [
      "plt.hist(cabbies.earnings, 100)"
     ],
     "language": "python",
     "metadata": {},
     "outputs": [
      {
       "metadata": {},
       "output_type": "pyout",
       "prompt_number": 12,
       "text": [
        "(array([  7.53000000e+02,   1.10000000e+01,   1.10000000e+01,\n",
        "          1.10000000e+01,   2.60000000e+01,   4.10000000e+01,\n",
        "          6.20000000e+01,   8.20000000e+01,   9.80000000e+01,\n",
        "          1.24000000e+02,   1.34000000e+02,   1.40000000e+02,\n",
        "          1.68000000e+02,   1.52000000e+02,   1.59000000e+02,\n",
        "          1.60000000e+02,   2.08000000e+02,   2.82000000e+02,\n",
        "          3.83000000e+02,   5.03000000e+02,   6.65000000e+02,\n",
        "          7.86000000e+02,   1.00400000e+03,   1.16600000e+03,\n",
        "          1.29400000e+03,   1.29100000e+03,   1.35600000e+03,\n",
        "          1.12200000e+03,   8.59000000e+02,   5.84000000e+02,\n",
        "          2.92000000e+02,   1.35000000e+02,   5.30000000e+01,\n",
        "          1.60000000e+01,   6.00000000e+00,   3.00000000e+00,\n",
        "          1.00000000e+00,   0.00000000e+00,   0.00000000e+00,\n",
        "          0.00000000e+00,   0.00000000e+00,   0.00000000e+00,\n",
        "          0.00000000e+00,   0.00000000e+00,   0.00000000e+00,\n",
        "          0.00000000e+00,   0.00000000e+00,   1.00000000e+00,\n",
        "          0.00000000e+00,   0.00000000e+00,   0.00000000e+00,\n",
        "          0.00000000e+00,   0.00000000e+00,   0.00000000e+00,\n",
        "          0.00000000e+00,   0.00000000e+00,   0.00000000e+00,\n",
        "          0.00000000e+00,   0.00000000e+00,   0.00000000e+00,\n",
        "          0.00000000e+00,   0.00000000e+00,   0.00000000e+00,\n",
        "          0.00000000e+00,   0.00000000e+00,   0.00000000e+00,\n",
        "          0.00000000e+00,   0.00000000e+00,   0.00000000e+00,\n",
        "          0.00000000e+00,   0.00000000e+00,   0.00000000e+00,\n",
        "          0.00000000e+00,   0.00000000e+00,   0.00000000e+00,\n",
        "          0.00000000e+00,   0.00000000e+00,   0.00000000e+00,\n",
        "          0.00000000e+00,   0.00000000e+00,   0.00000000e+00,\n",
        "          0.00000000e+00,   1.00000000e+00,   0.00000000e+00,\n",
        "          0.00000000e+00,   0.00000000e+00,   0.00000000e+00,\n",
        "          0.00000000e+00,   0.00000000e+00,   0.00000000e+00,\n",
        "          0.00000000e+00,   0.00000000e+00,   0.00000000e+00,\n",
        "          0.00000000e+00,   0.00000000e+00,   0.00000000e+00,\n",
        "          0.00000000e+00,   0.00000000e+00,   0.00000000e+00,\n",
        "          1.00000000e+00]),\n",
        " array([  1.06000000e+00,   8.94653950e+03,   1.78920190e+04,\n",
        "          2.68374985e+04,   3.57829780e+04,   4.47284575e+04,\n",
        "          5.36739370e+04,   6.26194165e+04,   7.15648960e+04,\n",
        "          8.05103755e+04,   8.94558550e+04,   9.84013345e+04,\n",
        "          1.07346814e+05,   1.16292293e+05,   1.25237773e+05,\n",
        "          1.34183253e+05,   1.43128732e+05,   1.52074211e+05,\n",
        "          1.61019691e+05,   1.69965170e+05,   1.78910650e+05,\n",
        "          1.87856129e+05,   1.96801609e+05,   2.05747088e+05,\n",
        "          2.14692568e+05,   2.23638047e+05,   2.32583527e+05,\n",
        "          2.41529006e+05,   2.50474486e+05,   2.59419965e+05,\n",
        "          2.68365445e+05,   2.77310924e+05,   2.86256404e+05,\n",
        "          2.95201883e+05,   3.04147363e+05,   3.13092842e+05,\n",
        "          3.22038322e+05,   3.30983802e+05,   3.39929281e+05,\n",
        "          3.48874760e+05,   3.57820240e+05,   3.66765719e+05,\n",
        "          3.75711199e+05,   3.84656678e+05,   3.93602158e+05,\n",
        "          4.02547637e+05,   4.11493117e+05,   4.20438596e+05,\n",
        "          4.29384076e+05,   4.38329555e+05,   4.47275035e+05,\n",
        "          4.56220514e+05,   4.65165994e+05,   4.74111473e+05,\n",
        "          4.83056953e+05,   4.92002432e+05,   5.00947912e+05,\n",
        "          5.09893391e+05,   5.18838871e+05,   5.27784351e+05,\n",
        "          5.36729830e+05,   5.45675309e+05,   5.54620789e+05,\n",
        "          5.63566269e+05,   5.72511748e+05,   5.81457228e+05,\n",
        "          5.90402707e+05,   5.99348187e+05,   6.08293666e+05,\n",
        "          6.17239145e+05,   6.26184625e+05,   6.35130105e+05,\n",
        "          6.44075584e+05,   6.53021064e+05,   6.61966543e+05,\n",
        "          6.70912022e+05,   6.79857502e+05,   6.88802981e+05,\n",
        "          6.97748461e+05,   7.06693941e+05,   7.15639420e+05,\n",
        "          7.24584900e+05,   7.33530379e+05,   7.42475858e+05,\n",
        "          7.51421338e+05,   7.60366818e+05,   7.69312297e+05,\n",
        "          7.78257777e+05,   7.87203256e+05,   7.96148735e+05,\n",
        "          8.05094215e+05,   8.14039694e+05,   8.22985174e+05,\n",
        "          8.31930654e+05,   8.40876133e+05,   8.49821613e+05,\n",
        "          8.58767092e+05,   8.67712571e+05,   8.76658051e+05,\n",
        "          8.85603530e+05,   8.94549010e+05]),\n",
        " <a list of 100 Patch objects>)"
       ]
      },
      {
       "metadata": {},
       "output_type": "display_data",
       "png": "[encoded data removed]",
       "text": [
        "<matplotlib.figure.Figure at 0x10be7fcd0>"
       ]
      }
     ],
     "prompt_number": 12
    },
    {
     "cell_type": "code",
     "collapsed": false,
     "input": [
      "%pylab inline"
     ],
     "language": "python",
     "metadata": {},
     "outputs": [
      {
       "output_type": "stream",
       "stream": "stdout",
       "text": [
        "Populating the interactive namespace from numpy and matplotlib\n"
       ]
      }
     ],
     "prompt_number": 4
    },
    {
     "cell_type": "code",
     "collapsed": false,
     "input": [
      "np.argmax(cabbies.earnings)"
     ],
     "language": "python",
     "metadata": {},
     "outputs": [
      {
       "metadata": {},
       "output_type": "pyout",
       "prompt_number": 13,
       "text": [
        "0"
       ]
      }
     ],
     "prompt_number": 13
    },
    {
     "cell_type": "code",
     "collapsed": false,
     "input": [
      "rounded_earnings = cabbies.earnings.apply(lambda e: int(e) / 1000 * 1000)"
     ],
     "language": "python",
     "metadata": {},
     "outputs": [],
     "prompt_number": 52
    },
    {
     "cell_type": "code",
     "collapsed": false,
     "input": [
      "rounded_earnings"
     ],
     "language": "python",
     "metadata": {},
     "outputs": [
      {
       "metadata": {},
       "output_type": "pyout",
       "prompt_number": 51,
       "text": [
        "13404    4000\n",
        "13405    4000\n",
        "13406    4000\n",
        "13407    4000\n",
        "13408    4000\n",
        "13409    3000\n",
        "13410    3000\n",
        "13411    3000\n",
        "13412    3000\n",
        "13413    2000\n",
        "13414    2000\n",
        "13415    2000\n",
        "13416    2000\n",
        "13417    2000\n",
        "13418    2000\n",
        "...\n",
        "13508    1000\n",
        "13509    1000\n",
        "13510    1000\n",
        "13511    1000\n",
        "13512    1000\n",
        "13513    1000\n",
        "13514    1000\n",
        "13515    1000\n",
        "13516    1000\n",
        "13517    1000\n",
        "13518    1000\n",
        "13519    1000\n",
        "13520    1000\n",
        "13521    1000\n",
        "13522    1000\n",
        "Name: earnings, Length: 119, dtype: int64"
       ]
      }
     ],
     "prompt_number": 51
    },
    {
     "cell_type": "code",
     "collapsed": false,
     "input": [
      "plt.hist(rounded_earnings, 100, range=[0,400000])\n",
      "plt.xlabel('Reported Revenues ($) in 2013')\n",
      "plt.ylabel('Drivers')"
     ],
     "language": "python",
     "metadata": {},
     "outputs": [
      {
       "metadata": {},
       "output_type": "pyout",
       "prompt_number": 64,
       "text": [
        "<matplotlib.text.Text at 0x10f61e650>"
       ]
      },
      {
       "metadata": {},
       "output_type": "display_data",
       "png": "[encoded data removed]",
       "text": [
        "<matplotlib.figure.Figure at 0x10f6b3850>"
       ]
      }
     ],
     "prompt_number": 64
    },
    {
     "cell_type": "code",
     "collapsed": false,
     "input": [
      "rounded_earnings = rounded_earnings[rounded_earnings > 5000]"
     ],
     "language": "python",
     "metadata": {},
     "outputs": [],
     "prompt_number": 53
    },
    {
     "cell_type": "code",
     "collapsed": false,
     "input": [
      "rounded_earnings.mean()"
     ],
     "language": "python",
     "metadata": {},
     "outputs": [
      {
       "metadata": {},
       "output_type": "pyout",
       "prompt_number": 54,
       "text": [
        "206631.77137740634"
       ]
      }
     ],
     "prompt_number": 54
    },
    {
     "cell_type": "code",
     "collapsed": false,
     "input": [
      "rounded_earnings.mode()"
     ],
     "language": "python",
     "metadata": {},
     "outputs": [
      {
       "metadata": {},
       "output_type": "pyout",
       "prompt_number": 55,
       "text": [
        "0    232000\n",
        "dtype: int64"
       ]
      }
     ],
     "prompt_number": 55
    },
    {
     "cell_type": "code",
     "collapsed": false,
     "input": [
      "sns.set_palette(\"deep\", desat=.6)\n",
      "sns.set_context(rc={\"figure.figsize\": (8, 4)})"
     ],
     "language": "python",
     "metadata": {},
     "outputs": [],
     "prompt_number": 3
    },
    {
     "cell_type": "code",
     "collapsed": false,
     "input": [],
     "language": "python",
     "metadata": {},
     "outputs": []
    }
   ],
   "metadata": {}
  }
 ]
}